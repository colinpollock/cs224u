{
 "cells": [
  {
   "cell_type": "markdown",
   "metadata": {},
   "source": [
    "# Torch SST #\n",
    "I implemented different models in `torch_sst.py` and this notebook tests them against the Stanford Sentiment Treebank dataset.\n",
    "\n",
    "Models:\n",
    "* Bag of words with a dense output layer\n",
    "* Averaging the GloVe vectors for each token and passing the output to a dense layer\n",
    "* RNN (RNN, LSTM, GRU)\n",
    "\n",
    "There are a lot of improvements that'd lift all of these models' performance (e.g. regularization), but I just wanted to look at the relative performance. Overall the BOW model and the bidirectional LSTM/GRU perform best."
   ]
  },
  {
   "cell_type": "code",
   "execution_count": 6,
   "metadata": {},
   "outputs": [],
   "source": [
    "import os\n",
    "\n",
    "import torch\n",
    "import numpy as np\n",
    "\n",
    "from imblearn.over_sampling import RandomOverSampler\n",
    "\n",
    "from torch_sst import BOWClassifier, GloveClassifier, RnnClassifier, load_raw_data, experiment"
   ]
  },
  {
   "cell_type": "code",
   "execution_count": 8,
   "metadata": {},
   "outputs": [],
   "source": [
    "train_texts, train_labels = load_raw_data('train')\n",
    "train_texts = np.array(train_texts)\n",
    "train_labels = np.array(train_labels)\n",
    "\n",
    "dev_texts, dev_labels = load_raw_data('dev')"
   ]
  },
  {
   "cell_type": "code",
   "execution_count": 9,
   "metadata": {},
   "outputs": [
    {
     "name": "stdout",
     "output_type": "stream",
     "text": [
      "Epoch 10: 35.23\t0.48\n",
      "Epoch 20: 33.30\t0.55\n",
      "Epoch 30: 31.21\t0.60\n",
      "Epoch 40: 30.50\t0.61\n",
      "Epoch 50: 29.48\t0.63\n",
      "Epoch 60: 28.93\t0.63\n",
      "Epoch 70: 28.27\t0.64\n",
      "Epoch 80: 27.51\t0.65\n",
      "Epoch 90: 27.41\t0.66\n",
      "Epoch 100: 26.66\t0.66\n",
      "\n",
      "## Train ##\n"
     ]
    },
    {
     "name": "stderr",
     "output_type": "stream",
     "text": [
      "/Users/colin/.pyenv/versions/3.7.4/envs/374/lib/python3.7/site-packages/sklearn/metrics/classification.py:1437: UndefinedMetricWarning: Precision and F-score are ill-defined and being set to 0.0 in labels with no predicted samples.\n",
      "  'precision', 'predicted', average, warn_for)\n"
     ]
    },
    {
     "name": "stdout",
     "output_type": "stream",
     "text": [
      "              precision    recall  f1-score   support\n",
      "\n",
      "    negative       0.61      0.78      0.69      3310\n",
      "     neutral       0.00      0.00      0.00      1624\n",
      "    positive       0.68      0.81      0.74      3610\n",
      "\n",
      "    accuracy                           0.65      8544\n",
      "   macro avg       0.43      0.53      0.47      8544\n",
      "weighted avg       0.52      0.65      0.58      8544\n",
      "\n",
      "## Dev ##\n",
      "              precision    recall  f1-score   support\n",
      "\n",
      "    negative       0.61      0.75      0.67       428\n",
      "     neutral       0.00      0.00      0.00       229\n",
      "    positive       0.62      0.80      0.70       444\n",
      "\n",
      "    accuracy                           0.61      1101\n",
      "   macro avg       0.41      0.52      0.46      1101\n",
      "weighted avg       0.49      0.61      0.54      1101\n",
      "\n"
     ]
    }
   ],
   "source": [
    "rnn_classifier = RnnClassifier(\n",
    "    hidden_dimension=50, rnn_type='rnn', num_classes=3, epochs=100,\n",
    "    print_every=10, bidirectional=False, batch_size=256,\n",
    "    oversample=False\n",
    ")\n",
    "experiment(rnn_classifier, orig_train_texts, orig_train_labels, dev_texts, dev_labels)"
   ]
  },
  {
   "cell_type": "code",
   "execution_count": null,
   "metadata": {},
   "outputs": [],
   "source": [
    "rnn_classifier = RnnClassifier(\n",
    "    hidden_dimension=50, rnn_type='rnn', num_classes=3, epochs=100,\n",
    "    print_every=10, bidirectional=False, batch_size=256,\n",
    "    oversample=True\n",
    ")\n",
    "experiment(rnn_classifier, orig_train_texts, orig_train_labels, dev_texts, dev_labels)"
   ]
  },
  {
   "cell_type": "code",
   "execution_count": null,
   "metadata": {},
   "outputs": [],
   "source": [
    "rnn_classifier = RnnClassifier(\n",
    "    hidden_dimension=50, rnn_type='rnn', num_classes=3, epochs=100,\n",
    "    print_every=10, bidirectional=True, batch_size=256,\n",
    "    oversample=True\n",
    ")\n",
    "experiment(rnn_classifier, orig_train_texts, orig_train_labels, dev_texts, dev_labels)"
   ]
  },
  {
   "cell_type": "code",
   "execution_count": 3,
   "metadata": {},
   "outputs": [
    {
     "name": "stdout",
     "output_type": "stream",
     "text": [
      "Epoch 10: 37.85\t0.57\n",
      "Epoch 20: 31.43\t0.68\n",
      "Epoch 30: 23.06\t0.80\n",
      "Epoch 40: 16.77\t0.86\n",
      "Epoch 50: 12.96\t0.90\n",
      "Epoch 60: 9.46\t0.93\n",
      "Epoch 70: 7.56\t0.95\n",
      "Epoch 80: 6.17\t0.96\n",
      "Epoch 90: 4.72\t0.97\n",
      "Epoch 100: 4.01\t0.97\n",
      "\n",
      "## Train ##\n",
      "              precision    recall  f1-score   support\n",
      "\n",
      "    negative       0.77      0.70      0.74      3310\n",
      "     neutral       0.56      0.51      0.53      1624\n",
      "    positive       0.71      0.80      0.75      3610\n",
      "\n",
      "    accuracy                           0.71      8544\n",
      "   macro avg       0.68      0.67      0.67      8544\n",
      "weighted avg       0.71      0.71      0.70      8544\n",
      "\n",
      "## Dev ##\n",
      "              precision    recall  f1-score   support\n",
      "\n",
      "    negative       0.60      0.53      0.56       428\n",
      "     neutral       0.26      0.20      0.22       229\n",
      "    positive       0.57      0.70      0.63       444\n",
      "\n",
      "    accuracy                           0.53      1101\n",
      "   macro avg       0.48      0.48      0.47      1101\n",
      "weighted avg       0.52      0.53      0.52      1101\n",
      "\n"
     ]
    }
   ],
   "source": [
    "rnn_classifier = RnnClassifier(\n",
    "    hidden_dimension=50, rnn_type='lstm', num_classes=3, epochs=100,\n",
    "    print_every=10, bidirectional=True, batch_size=256,\n",
    "    oversample=True\n",
    ")\n",
    "experiment(rnn_classifier, orig_train_texts, orig_train_labels, dev_texts, dev_labels)"
   ]
  },
  {
   "cell_type": "code",
   "execution_count": 4,
   "metadata": {},
   "outputs": [
    {
     "name": "stdout",
     "output_type": "stream",
     "text": [
      "Epoch 10: 35.24\t0.62\n",
      "Epoch 20: 24.91\t0.77\n",
      "Epoch 30: 16.23\t0.86\n",
      "Epoch 40: 10.89\t0.92\n",
      "Epoch 50: 7.15\t0.95\n",
      "Epoch 60: 5.20\t0.97\n",
      "Epoch 70: 4.18\t0.97\n",
      "Epoch 80: 2.92\t0.98\n",
      "Epoch 90: 2.75\t0.98\n",
      "Epoch 100: 1.62\t0.99\n",
      "\n",
      "## Train ##\n",
      "              precision    recall  f1-score   support\n",
      "\n",
      "    negative       0.88      0.63      0.73      3310\n",
      "     neutral       0.41      0.82      0.55      1624\n",
      "    positive       0.78      0.64      0.70      3610\n",
      "\n",
      "    accuracy                           0.67      8544\n",
      "   macro avg       0.69      0.69      0.66      8544\n",
      "weighted avg       0.75      0.67      0.68      8544\n",
      "\n",
      "## Dev ##\n",
      "              precision    recall  f1-score   support\n",
      "\n",
      "    negative       0.62      0.40      0.49       428\n",
      "     neutral       0.23      0.42      0.29       229\n",
      "    positive       0.58      0.52      0.55       444\n",
      "\n",
      "    accuracy                           0.45      1101\n",
      "   macro avg       0.47      0.45      0.44      1101\n",
      "weighted avg       0.52      0.45      0.47      1101\n",
      "\n"
     ]
    }
   ],
   "source": [
    "rnn_classifier = RnnClassifier(\n",
    "    hidden_dimension=50, rnn_type='gru', num_classes=3, epochs=100,\n",
    "    print_every=10, bidirectional=True, batch_size=256,\n",
    "    oversample=True\n",
    ")\n",
    "experiment(rnn_classifier, orig_train_texts, orig_train_labels, dev_texts, dev_labels)"
   ]
  },
  {
   "cell_type": "markdown",
   "metadata": {},
   "source": [
    "## RNN with GloVe Vectors ##\n",
    "\n",
    "### Findings: ###\n",
    "* LSTM, GRU: improvement in macro F1 of 7% and 9% respectively.\n",
    "* Bidirectional: 12% improvement in macro F1\n",
    "* Not freezing embeddings: bidirectional LSTM and unfreezing gave the model way more power. It almost perfectly fit the train set (macro F1 of 96%) and performed a little worse on the dev set than the bidirectional LSTM with frozen embeddings. \n",
    "\n",
    "### TODO: ###\n",
    "* Keep going with the bidirectional LSTM with unfrozen embeddings. It fits the training set well, so try adding regularization.\n",
    "* Stacked (deep) RNNs\n",
    "* Regularization / dropout\n",
    "* Search over learning rate / batch size, hidden dimension, epochs"
   ]
  },
  {
   "cell_type": "code",
   "execution_count": 10,
   "metadata": {},
   "outputs": [
    {
     "name": "stdout",
     "output_type": "stream",
     "text": [
      "Epoch 1: 93.36\t0.35\n",
      "Epoch 2: 92.32\t0.38\n",
      "Epoch 3: 89.65\t0.43\n",
      "Epoch 4: 89.62\t0.45\n",
      "Epoch 5: 85.64\t0.48\n",
      "Epoch 6: 85.21\t0.49\n",
      "Epoch 7: 84.33\t0.50\n",
      "Epoch 8: 83.12\t0.51\n",
      "Epoch 9: 82.37\t0.51\n",
      "Epoch 10: 82.18\t0.52\n",
      "Epoch 11: 82.16\t0.52\n",
      "Epoch 12: 80.77\t0.53\n",
      "Epoch 13: 79.68\t0.53\n",
      "Epoch 14: 79.75\t0.54\n",
      "Epoch 15: 79.11\t0.54\n",
      "Epoch 16: 79.28\t0.54\n",
      "Epoch 17: 78.67\t0.54\n",
      "Epoch 18: 78.18\t0.55\n",
      "Epoch 19: 77.83\t0.55\n",
      "Epoch 20: 76.80\t0.56\n",
      "\n",
      "## Train ##\n",
      "              precision    recall  f1-score   support\n",
      "\n",
      "    negative       0.59      0.79      0.68      3310\n",
      "     neutral       0.30      0.14      0.19      1624\n",
      "    positive       0.73      0.68      0.71      3610\n",
      "\n",
      "    accuracy                           0.62      8544\n",
      "   macro avg       0.54      0.54      0.53      8544\n",
      "weighted avg       0.60      0.62      0.60      8544\n",
      "\n",
      "## Dev ##\n",
      "              precision    recall  f1-score   support\n",
      "\n",
      "    negative       0.61      0.79      0.69       428\n",
      "     neutral       0.36      0.14      0.20       229\n",
      "    positive       0.69      0.72      0.70       444\n",
      "\n",
      "    accuracy                           0.62      1101\n",
      "   macro avg       0.55      0.55      0.53      1101\n",
      "weighted avg       0.59      0.62      0.59      1101\n",
      "\n"
     ]
    }
   ],
   "source": [
    "rnn_classifier = RnnClassifier(hidden_dimension=50, rnn_type='rnn', num_classes=3, epochs=20, print_every=1, bidirectional=True)\n",
    "experiment(rnn_classifier, train_texts, train_labels, dev_texts, dev_labels)"
   ]
  },
  {
   "cell_type": "code",
   "execution_count": 11,
   "metadata": {},
   "outputs": [
    {
     "name": "stdout",
     "output_type": "stream",
     "text": [
      "Epoch 1: 92.99\t0.36\n",
      "Epoch 2: 87.27\t0.46\n",
      "Epoch 3: 85.62\t0.48\n",
      "Epoch 4: 86.11\t0.49\n",
      "Epoch 5: 82.71\t0.51\n",
      "Epoch 6: 79.37\t0.53\n",
      "Epoch 7: 77.91\t0.55\n",
      "Epoch 8: 77.17\t0.55\n",
      "Epoch 9: 75.94\t0.56\n",
      "Epoch 10: 74.18\t0.57\n",
      "Epoch 11: 72.57\t0.59\n",
      "Epoch 12: 71.01\t0.60\n",
      "Epoch 13: 69.47\t0.61\n",
      "Epoch 14: 68.13\t0.63\n",
      "Epoch 15: 65.58\t0.65\n",
      "Epoch 16: 63.94\t0.65\n",
      "Epoch 17: 60.99\t0.68\n",
      "Epoch 18: 59.46\t0.70\n",
      "Epoch 19: 57.98\t0.70\n",
      "Epoch 20: 55.05\t0.73\n",
      "\n",
      "## Train ##\n",
      "              precision    recall  f1-score   support\n",
      "\n",
      "    negative       0.74      0.69      0.72      3310\n",
      "     neutral       0.42      0.39      0.40      1624\n",
      "    positive       0.77      0.84      0.80      3610\n",
      "\n",
      "    accuracy                           0.70      8544\n",
      "   macro avg       0.65      0.64      0.64      8544\n",
      "weighted avg       0.69      0.70      0.69      8544\n",
      "\n",
      "## Dev ##\n",
      "              precision    recall  f1-score   support\n",
      "\n",
      "    negative       0.64      0.60      0.62       428\n",
      "     neutral       0.28      0.21      0.24       229\n",
      "    positive       0.65      0.77      0.70       444\n",
      "\n",
      "    accuracy                           0.59      1101\n",
      "   macro avg       0.52      0.53      0.52      1101\n",
      "weighted avg       0.57      0.59      0.57      1101\n",
      "\n"
     ]
    }
   ],
   "source": [
    "rnn_classifier = RnnClassifier(hidden_dimension=50, rnn_type='lstm', num_classes=3, epochs=20, print_every=1, bidirectional=True)\n",
    "experiment(rnn_classifier, train_texts, train_labels, dev_texts, dev_labels)"
   ]
  },
  {
   "cell_type": "code",
   "execution_count": 12,
   "metadata": {},
   "outputs": [
    {
     "name": "stdout",
     "output_type": "stream",
     "text": [
      "Epoch 1: 93.14\t0.36\n",
      "Epoch 2: 84.84\t0.49\n",
      "Epoch 3: 78.13\t0.55\n",
      "Epoch 4: 75.27\t0.57\n",
      "Epoch 5: 73.67\t0.58\n",
      "Epoch 6: 71.75\t0.60\n",
      "Epoch 7: 69.56\t0.62\n",
      "Epoch 8: 67.87\t0.63\n",
      "Epoch 9: 65.77\t0.65\n",
      "Epoch 10: 63.09\t0.67\n",
      "Epoch 11: 61.95\t0.69\n",
      "Epoch 12: 57.22\t0.72\n",
      "Epoch 13: 54.84\t0.73\n",
      "Epoch 14: 51.71\t0.75\n",
      "Epoch 15: 47.48\t0.79\n",
      "Epoch 16: 46.71\t0.79\n",
      "Epoch 17: 42.14\t0.82\n",
      "Epoch 18: 38.24\t0.84\n",
      "Epoch 19: 36.06\t0.85\n",
      "Epoch 20: 34.07\t0.86\n",
      "\n",
      "## Train ##\n",
      "              precision    recall  f1-score   support\n",
      "\n",
      "    negative       0.73      0.80      0.76      3310\n",
      "     neutral       0.51      0.37      0.43      1624\n",
      "    positive       0.74      0.75      0.75      3610\n",
      "\n",
      "    accuracy                           0.70      8544\n",
      "   macro avg       0.66      0.64      0.65      8544\n",
      "weighted avg       0.69      0.70      0.69      8544\n",
      "\n",
      "## Dev ##\n",
      "              precision    recall  f1-score   support\n",
      "\n",
      "    negative       0.61      0.67      0.64       428\n",
      "     neutral       0.23      0.14      0.17       229\n",
      "    positive       0.62      0.70      0.66       444\n",
      "\n",
      "    accuracy                           0.57      1101\n",
      "   macro avg       0.49      0.50      0.49      1101\n",
      "weighted avg       0.54      0.57      0.55      1101\n",
      "\n"
     ]
    }
   ],
   "source": [
    "rnn_classifier = RnnClassifier(hidden_dimension=50, rnn_type='gru', num_classes=3, epochs=20, print_every=1, bidirectional=True)\n",
    "experiment(rnn_classifier, train_texts, train_labels, dev_texts, dev_labels)"
   ]
  },
  {
   "cell_type": "code",
   "execution_count": 14,
   "metadata": {},
   "outputs": [
    {
     "name": "stdout",
     "output_type": "stream",
     "text": [
      "Epoch 1: 92.71\t0.37\n",
      "Epoch 2: 89.68\t0.44\n",
      "Epoch 3: 90.16\t0.43\n",
      "Epoch 4: 85.91\t0.48\n",
      "Epoch 5: 82.51\t0.52\n",
      "Epoch 6: 79.89\t0.53\n",
      "Epoch 7: 78.22\t0.56\n",
      "Epoch 8: 77.25\t0.56\n",
      "Epoch 9: 75.38\t0.58\n",
      "Epoch 10: 74.27\t0.58\n",
      "Epoch 11: 73.07\t0.59\n",
      "Epoch 12: 71.35\t0.60\n",
      "Epoch 13: 69.31\t0.62\n",
      "Epoch 14: 66.94\t0.64\n",
      "Epoch 15: 65.16\t0.65\n",
      "Epoch 16: 63.26\t0.67\n",
      "Epoch 17: 61.48\t0.68\n",
      "Epoch 18: 59.39\t0.70\n",
      "Epoch 19: 56.97\t0.72\n",
      "Epoch 20: 54.08\t0.74\n",
      "\n",
      "## Train ##\n",
      "              precision    recall  f1-score   support\n",
      "\n",
      "    negative       0.75      0.67      0.71      3310\n",
      "     neutral       0.44      0.45      0.44      1624\n",
      "    positive       0.77      0.84      0.80      3610\n",
      "\n",
      "    accuracy                           0.70      8544\n",
      "   macro avg       0.65      0.65      0.65      8544\n",
      "weighted avg       0.70      0.70      0.70      8544\n",
      "\n",
      "## Dev ##\n",
      "              precision    recall  f1-score   support\n",
      "\n",
      "    negative       0.66      0.59      0.62       428\n",
      "     neutral       0.25      0.21      0.23       229\n",
      "    positive       0.64      0.77      0.70       444\n",
      "\n",
      "    accuracy                           0.58      1101\n",
      "   macro avg       0.52      0.52      0.51      1101\n",
      "weighted avg       0.57      0.58      0.57      1101\n",
      "\n"
     ]
    }
   ],
   "source": [
    "rnn_classifier = RnnClassifier(hidden_dimension=50, rnn_type='lstm', num_classes=3, epochs=20, print_every=1, bidirectional=True, oversample=True)\n",
    "experiment(rnn_classifier, train_texts, train_labels, dev_texts, dev_labels)"
   ]
  },
  {
   "cell_type": "code",
   "execution_count": 15,
   "metadata": {},
   "outputs": [
    {
     "name": "stdout",
     "output_type": "stream",
     "text": [
      "Epoch 1: 92.75\t0.37\n",
      "Epoch 2: 83.38\t0.49\n",
      "Epoch 3: 70.56\t0.60\n",
      "Epoch 4: 57.46\t0.72\n",
      "Epoch 5: 44.01\t0.81\n",
      "\n",
      "## Train ##\n",
      "              precision    recall  f1-score   support\n",
      "\n",
      "    negative       0.77      0.89      0.83      3310\n",
      "     neutral       0.53      0.58      0.56      1624\n",
      "    positive       0.96      0.78      0.86      3610\n",
      "\n",
      "    accuracy                           0.79      8544\n",
      "   macro avg       0.75      0.75      0.75      8544\n",
      "weighted avg       0.80      0.79      0.79      8544\n",
      "\n",
      "## Dev ##\n",
      "              precision    recall  f1-score   support\n",
      "\n",
      "    negative       0.63      0.71      0.67       428\n",
      "     neutral       0.33      0.34      0.33       229\n",
      "    positive       0.74      0.64      0.68       444\n",
      "\n",
      "    accuracy                           0.60      1101\n",
      "   macro avg       0.57      0.56      0.56      1101\n",
      "weighted avg       0.61      0.60      0.60      1101\n",
      "\n"
     ]
    }
   ],
   "source": [
    "# Using the best RNN type so far, LSTM, and unfreezing the embedding layer\n",
    "rnn_classifier = RnnClassifier(hidden_dimension=50, rnn_type='lstm', num_classes=3, epochs=5, print_every=1, bidirectional=True, update_glove=True)\n",
    "experiment(rnn_classifier, train_texts, train_labels, dev_texts, dev_labels)"
   ]
  },
  {
   "cell_type": "markdown",
   "metadata": {},
   "source": [
    "## GloVe Averaged Classifier ##\n",
    "\n",
    "Use pre-trained GloVe vectors. Average the vectors across all tokens."
   ]
  },
  {
   "cell_type": "code",
   "execution_count": 16,
   "metadata": {},
   "outputs": [
    {
     "name": "stdout",
     "output_type": "stream",
     "text": [
      "Epoch 100: 58.35\t0.61\n",
      "Epoch 200: 56.47\t0.63\n",
      "Epoch 300: 56.22\t0.63\n",
      "Epoch 400: 53.75\t0.65\n",
      "Epoch 500: 52.19\t0.67\n",
      "Epoch 600: 51.34\t0.67\n",
      "Epoch 700: 49.74\t0.69\n",
      "Epoch 800: 48.78\t0.69\n",
      "Epoch 900: 47.81\t0.70\n",
      "Epoch 1000: 46.82\t0.71\n",
      "\n",
      "## Train ##\n",
      "              precision    recall  f1-score   support\n",
      "\n",
      "    negative       0.65      0.58      0.61      3310\n",
      "     neutral       0.32      0.32      0.32      1624\n",
      "    positive       0.68      0.74      0.71      3610\n",
      "\n",
      "    accuracy                           0.60      8544\n",
      "   macro avg       0.55      0.55      0.55      8544\n",
      "weighted avg       0.60      0.60      0.60      8544\n",
      "\n",
      "## Dev ##\n",
      "              precision    recall  f1-score   support\n",
      "\n",
      "    negative       0.58      0.53      0.56       428\n",
      "     neutral       0.27      0.26      0.27       229\n",
      "    positive       0.61      0.68      0.64       444\n",
      "\n",
      "    accuracy                           0.54      1101\n",
      "   macro avg       0.49      0.49      0.49      1101\n",
      "weighted avg       0.53      0.54      0.53      1101\n",
      "\n"
     ]
    }
   ],
   "source": [
    "glove_classifier = GloveClassifier(hidden_dim=100, epochs=1000, print_every=100, update_glove=False)\n",
    "experiment(glove_classifier, train_texts, train_labels, dev_texts, dev_labels)"
   ]
  },
  {
   "cell_type": "markdown",
   "metadata": {},
   "source": [
    "When setting the embedding to `requires_grad=True` the embedding weights change after training, but not when it's `False`."
   ]
  },
  {
   "cell_type": "code",
   "execution_count": 17,
   "metadata": {},
   "outputs": [
    {
     "name": "stdout",
     "output_type": "stream",
     "text": [
      "Epoch 1: 70.29\t0.43\n"
     ]
    },
    {
     "data": {
      "text/plain": [
       "True"
      ]
     },
     "execution_count": 17,
     "metadata": {},
     "output_type": "execute_result"
    }
   ],
   "source": [
    "glove_classifier = GloveClassifier(hidden_dim=100, epochs=1, print_every=1, update_glove=False)\n",
    "initial_weights = glove_classifier.embed.weight.detach().numpy().copy()\n",
    "glove_classifier.fit(train_texts, train_labels)\n",
    "later_weights = glove_classifier.embed.weight.detach().numpy()\n",
    "\n",
    "(initial_weights == later_weights).all()"
   ]
  },
  {
   "cell_type": "code",
   "execution_count": 18,
   "metadata": {},
   "outputs": [
    {
     "name": "stdout",
     "output_type": "stream",
     "text": [
      "Epoch 1: 70.24\t0.42\n"
     ]
    },
    {
     "data": {
      "text/plain": [
       "False"
      ]
     },
     "execution_count": 18,
     "metadata": {},
     "output_type": "execute_result"
    }
   ],
   "source": [
    "glove_classifier = GloveClassifier(hidden_dim=100, epochs=1, print_every=1, update_glove=True)\n",
    "initial_weights = glove_classifier.embed.weight.detach().numpy().copy()\n",
    "glove_classifier.fit(train_texts, train_labels)\n",
    "later_weights = glove_classifier.embed.weight.detach().numpy()\n",
    "\n",
    "(initial_weights == later_weights).all()"
   ]
  },
  {
   "cell_type": "markdown",
   "metadata": {},
   "source": [
    "## Bag of Words Classifier ##"
   ]
  },
  {
   "cell_type": "code",
   "execution_count": 19,
   "metadata": {},
   "outputs": [],
   "source": [
    "word_to_id, label_to_id = BOWClassifier.build_vocab(train_texts, train_labels, top_n=10000)"
   ]
  },
  {
   "cell_type": "code",
   "execution_count": 20,
   "metadata": {},
   "outputs": [],
   "source": [
    "def demo(classifier):\n",
    "    for text in 'It was a horrible disgusting movie', 'it was ok', 'It was an amazing movie!':\n",
    "        print(text)\n",
    "        print(classifier.predict(text))\n",
    "        print()"
   ]
  },
  {
   "cell_type": "code",
   "execution_count": 21,
   "metadata": {},
   "outputs": [
    {
     "name": "stdout",
     "output_type": "stream",
     "text": [
      "Epoch 5: 195.33\t0.74\n",
      "Epoch 10: 151.03\t0.83\n",
      "\n",
      "## Train ##\n",
      "              precision    recall  f1-score   support\n",
      "\n",
      "    negative       0.82      0.92      0.87      3310\n",
      "     neutral       0.93      0.50      0.65      1624\n",
      "    positive       0.84      0.93      0.89      3610\n",
      "\n",
      "    accuracy                           0.84      8544\n",
      "   macro avg       0.87      0.78      0.80      8544\n",
      "weighted avg       0.85      0.84      0.83      8544\n",
      "\n",
      "## Dev ##\n",
      "              precision    recall  f1-score   support\n",
      "\n",
      "    negative       0.63      0.72      0.67       428\n",
      "     neutral       0.31      0.06      0.10       229\n",
      "    positive       0.63      0.81      0.71       444\n",
      "\n",
      "    accuracy                           0.62      1101\n",
      "   macro avg       0.52      0.53      0.49      1101\n",
      "weighted avg       0.56      0.62      0.57      1101\n",
      "\n"
     ]
    }
   ],
   "source": [
    "classifier = BOWClassifier(word_to_id, label_to_id, epochs=10)\n",
    "experiment(classifier, train_texts, train_labels, dev_texts, dev_labels)"
   ]
  },
  {
   "cell_type": "code",
   "execution_count": 22,
   "metadata": {},
   "outputs": [
    {
     "name": "stdout",
     "output_type": "stream",
     "text": [
      "Epoch 5: 195.40\t0.74\n",
      "Epoch 10: 151.03\t0.83\n",
      "Epoch 15: 124.08\t0.87\n",
      "Epoch 20: 105.23\t0.90\n",
      "Epoch 25: 90.88\t0.92\n",
      "Epoch 30: 79.52\t0.93\n",
      "Epoch 35: 70.32\t0.94\n",
      "Epoch 40: 62.69\t0.95\n",
      "Epoch 45: 56.28\t0.96\n",
      "Epoch 50: 50.82\t0.96\n",
      "\n",
      "## Train ##\n",
      "              precision    recall  f1-score   support\n",
      "\n",
      "    negative       0.96      0.98      0.97      3310\n",
      "     neutral       0.96      0.90      0.93      1624\n",
      "    positive       0.97      0.98      0.98      3610\n",
      "\n",
      "    accuracy                           0.96      8544\n",
      "   macro avg       0.96      0.95      0.96      8544\n",
      "weighted avg       0.96      0.96      0.96      8544\n",
      "\n",
      "## Dev ##\n",
      "              precision    recall  f1-score   support\n",
      "\n",
      "    negative       0.65      0.68      0.67       428\n",
      "     neutral       0.33      0.21      0.26       229\n",
      "    positive       0.66      0.74      0.70       444\n",
      "\n",
      "    accuracy                           0.61      1101\n",
      "   macro avg       0.54      0.55      0.54      1101\n",
      "weighted avg       0.59      0.61      0.59      1101\n",
      "\n"
     ]
    }
   ],
   "source": [
    "classifier = BOWClassifier(word_to_id, label_to_id, epochs=50)\n",
    "experiment(classifier, train_texts, train_labels, dev_texts, dev_labels)"
   ]
  }
 ],
 "metadata": {
  "kernelspec": {
   "display_name": "Python 3",
   "language": "python",
   "name": "python3"
  },
  "language_info": {
   "codemirror_mode": {
    "name": "ipython",
    "version": 3
   },
   "file_extension": ".py",
   "mimetype": "text/x-python",
   "name": "python",
   "nbconvert_exporter": "python",
   "pygments_lexer": "ipython3",
   "version": "3.7.4"
  }
 },
 "nbformat": 4,
 "nbformat_minor": 2
}
